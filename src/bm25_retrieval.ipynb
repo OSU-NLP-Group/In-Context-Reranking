{
 "cells": [
  {
   "cell_type": "code",
   "execution_count": 1,
   "metadata": {},
   "outputs": [
    {
     "name": "stderr",
     "output_type": "stream",
     "text": [
      "WARNING: Using incubator modules: jdk.incubator.vector\n",
      "/home/chen.10216/anaconda3/envs/vllm_cuda12/lib/python3.11/site-packages/tqdm/auto.py:21: TqdmWarning: IProgress not found. Please update jupyter and ipywidgets. See https://ipywidgets.readthedocs.io/en/stable/user_install.html\n",
      "  from .autonotebook import tqdm as notebook_tqdm\n"
     ]
    }
   ],
   "source": [
    "from pyserini.search import LuceneSearcher, get_topics, get_qrels"
   ]
  },
  {
   "cell_type": "markdown",
   "metadata": {},
   "source": []
  },
  {
   "cell_type": "code",
   "execution_count": 2,
   "metadata": {},
   "outputs": [],
   "source": [
    "import json\n",
    "\n",
    "def bm25_retrieve_beir(task, K):\n",
    "    topics = get_topics('beir-v1.0.0-{}-test'.format(task))\n",
    "    qrels = get_qrels('beir-v1.0.0-{}-test'.format(task))\n",
    "    searcher = LuceneSearcher.from_prebuilt_index('beir-v1.0.0-{}.flat'.format(task))\n",
    "\n",
    "    ICR_data = []\n",
    "    for topic_idx in list(topics.keys()):\n",
    "        topic = topics[topic_idx]\n",
    "        query = topic['title']\n",
    "        hits = searcher.search(query, k=K)\n",
    "        hit_items = 0\n",
    "        _sample = {\n",
    "            \"idx\": str(topic_idx),\n",
    "            \"question\": query,\n",
    "            \"paragraphs\":[],\n",
    "        }\n",
    "        for hit in hits:\n",
    "            doc_id = hit.docid\n",
    "            _doc_json = json.loads(searcher.doc(doc_id).raw())\n",
    "            _is_support = False\n",
    "            qrel_key_type = type(list(qrels[topic_idx].keys())[0])\n",
    "            if qrel_key_type == int:\n",
    "                _doc_id = int(doc_id)\n",
    "            else:\n",
    "                _doc_id = doc_id\n",
    "\n",
    "            if _doc_id in qrels[topic_idx].keys():\n",
    "                if int(qrels[topic_idx][_doc_id]) > 0:\n",
    "                    _is_support = True\n",
    "\n",
    "            if _is_support:\n",
    "                hit_items += 1\n",
    "            _sample['paragraphs'].append({\n",
    "            'idx': _doc_json['_id'],\n",
    "            'title': _doc_json['title'],\n",
    "            'paragraph_text': _doc_json['text'],\n",
    "            'is_supporting': _is_support,\n",
    "        })\n",
    "            \n",
    "        ICR_data.append(_sample)\n",
    "        _sample['num_gold_docs'] = hit_items\n",
    "    output_file_name = '../retriever_outpout/icr_beir_{}_bm25_top_{}.json'.format(task, K)\n",
    "    with open(output_file_name, 'w') as f:\n",
    "        json.dump(ICR_data, f, indent=2)\n",
    "    print('Saved retrieval results to ', output_file_name)\n"
   ]
  },
  {
   "cell_type": "code",
   "execution_count": 4,
   "metadata": {},
   "outputs": [
    {
     "name": "stderr",
     "output_type": "stream",
     "text": [
      "Oct 03, 2024 10:53:13 AM org.apache.lucene.store.MMapDirectory lookupProvider\n",
      "WARNING: You are running with Java 22 or later. To make full use of MMapDirectory, please update Apache Lucene.\n"
     ]
    },
    {
     "ename": "FileNotFoundError",
     "evalue": "[Errno 2] No such file or directory: '../retriever_outpout/icr_beir_trec-covid_bm25_top_100.json'",
     "output_type": "error",
     "traceback": [
      "\u001b[0;31m---------------------------------------------------------------------------\u001b[0m",
      "\u001b[0;31mFileNotFoundError\u001b[0m                         Traceback (most recent call last)",
      "Cell \u001b[0;32mIn[4], line 3\u001b[0m\n\u001b[1;32m      1\u001b[0m \u001b[38;5;66;03m# for task in ['trec-covid','nfcorpus','dbpedia-entity','scifact','scidocs','fiqa','fever','climate-fever', 'nq']:\u001b[39;00m\n\u001b[1;32m      2\u001b[0m \u001b[38;5;28;01mfor\u001b[39;00m task \u001b[38;5;129;01min\u001b[39;00m [\u001b[38;5;124m'\u001b[39m\u001b[38;5;124mtrec-covid\u001b[39m\u001b[38;5;124m'\u001b[39m]:\n\u001b[0;32m----> 3\u001b[0m     \u001b[43mbm25_retrieve_beir\u001b[49m\u001b[43m(\u001b[49m\u001b[43mtask\u001b[49m\u001b[43m,\u001b[49m\u001b[38;5;241;43m100\u001b[39;49m\u001b[43m)\u001b[49m\n",
      "Cell \u001b[0;32mIn[2], line 50\u001b[0m, in \u001b[0;36mbm25_retrieve_beir\u001b[0;34m(task, K)\u001b[0m\n\u001b[1;32m     48\u001b[0m     _sample[\u001b[38;5;124m'\u001b[39m\u001b[38;5;124mnum_gold_docs\u001b[39m\u001b[38;5;124m'\u001b[39m] \u001b[38;5;241m=\u001b[39m hit_items\n\u001b[1;32m     49\u001b[0m output_file_name \u001b[38;5;241m=\u001b[39m \u001b[38;5;124m'\u001b[39m\u001b[38;5;124m../retriever_outpout/icr_beir_\u001b[39m\u001b[38;5;132;01m{}\u001b[39;00m\u001b[38;5;124m_bm25_top_\u001b[39m\u001b[38;5;132;01m{}\u001b[39;00m\u001b[38;5;124m.json\u001b[39m\u001b[38;5;124m'\u001b[39m\u001b[38;5;241m.\u001b[39mformat(task, K)\n\u001b[0;32m---> 50\u001b[0m \u001b[38;5;28;01mwith\u001b[39;00m \u001b[38;5;28;43mopen\u001b[39;49m\u001b[43m(\u001b[49m\u001b[43moutput_file_name\u001b[49m\u001b[43m,\u001b[49m\u001b[43m \u001b[49m\u001b[38;5;124;43m'\u001b[39;49m\u001b[38;5;124;43mw\u001b[39;49m\u001b[38;5;124;43m'\u001b[39;49m\u001b[43m)\u001b[49m \u001b[38;5;28;01mas\u001b[39;00m f:\n\u001b[1;32m     51\u001b[0m     json\u001b[38;5;241m.\u001b[39mdump(ICR_data, f, indent\u001b[38;5;241m=\u001b[39m\u001b[38;5;241m2\u001b[39m)\n\u001b[1;32m     52\u001b[0m \u001b[38;5;28mprint\u001b[39m(\u001b[38;5;124m'\u001b[39m\u001b[38;5;124mSaved retrieval results to \u001b[39m\u001b[38;5;124m'\u001b[39m, output_file_name)\n",
      "File \u001b[0;32m~/anaconda3/envs/vllm_cuda12/lib/python3.11/site-packages/IPython/core/interactiveshell.py:324\u001b[0m, in \u001b[0;36m_modified_open\u001b[0;34m(file, *args, **kwargs)\u001b[0m\n\u001b[1;32m    317\u001b[0m \u001b[38;5;28;01mif\u001b[39;00m file \u001b[38;5;129;01min\u001b[39;00m {\u001b[38;5;241m0\u001b[39m, \u001b[38;5;241m1\u001b[39m, \u001b[38;5;241m2\u001b[39m}:\n\u001b[1;32m    318\u001b[0m     \u001b[38;5;28;01mraise\u001b[39;00m \u001b[38;5;167;01mValueError\u001b[39;00m(\n\u001b[1;32m    319\u001b[0m         \u001b[38;5;124mf\u001b[39m\u001b[38;5;124m\"\u001b[39m\u001b[38;5;124mIPython won\u001b[39m\u001b[38;5;124m'\u001b[39m\u001b[38;5;124mt let you open fd=\u001b[39m\u001b[38;5;132;01m{\u001b[39;00mfile\u001b[38;5;132;01m}\u001b[39;00m\u001b[38;5;124m by default \u001b[39m\u001b[38;5;124m\"\u001b[39m\n\u001b[1;32m    320\u001b[0m         \u001b[38;5;124m\"\u001b[39m\u001b[38;5;124mas it is likely to crash IPython. If you know what you are doing, \u001b[39m\u001b[38;5;124m\"\u001b[39m\n\u001b[1;32m    321\u001b[0m         \u001b[38;5;124m\"\u001b[39m\u001b[38;5;124myou can use builtins\u001b[39m\u001b[38;5;124m'\u001b[39m\u001b[38;5;124m open.\u001b[39m\u001b[38;5;124m\"\u001b[39m\n\u001b[1;32m    322\u001b[0m     )\n\u001b[0;32m--> 324\u001b[0m \u001b[38;5;28;01mreturn\u001b[39;00m \u001b[43mio_open\u001b[49m\u001b[43m(\u001b[49m\u001b[43mfile\u001b[49m\u001b[43m,\u001b[49m\u001b[43m \u001b[49m\u001b[38;5;241;43m*\u001b[39;49m\u001b[43margs\u001b[49m\u001b[43m,\u001b[49m\u001b[43m \u001b[49m\u001b[38;5;241;43m*\u001b[39;49m\u001b[38;5;241;43m*\u001b[39;49m\u001b[43mkwargs\u001b[49m\u001b[43m)\u001b[49m\n",
      "\u001b[0;31mFileNotFoundError\u001b[0m: [Errno 2] No such file or directory: '../retriever_outpout/icr_beir_trec-covid_bm25_top_100.json'"
     ]
    }
   ],
   "source": [
    "# for task in ['trec-covid','nfcorpus','dbpedia-entity','scifact','scidocs','fiqa','fever','climate-fever', 'nq']:\n",
    "for task in ['trec-covid']:\n",
    "    bm25_retrieve_beir(task,100)\n",
    "\n"
   ]
  },
  {
   "cell_type": "code",
   "execution_count": null,
   "metadata": {},
   "outputs": [],
   "source": []
  }
 ],
 "metadata": {
  "kernelspec": {
   "display_name": "torch_cu12",
   "language": "python",
   "name": "python3"
  },
  "language_info": {
   "codemirror_mode": {
    "name": "ipython",
    "version": 3
   },
   "file_extension": ".py",
   "mimetype": "text/x-python",
   "name": "python",
   "nbconvert_exporter": "python",
   "pygments_lexer": "ipython3",
   "version": "3.11.8"
  }
 },
 "nbformat": 4,
 "nbformat_minor": 2
}
