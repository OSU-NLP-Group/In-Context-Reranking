{
 "cells": [
  {
   "cell_type": "code",
   "execution_count": 2,
   "metadata": {},
   "outputs": [],
   "source": [
    "from pyserini.search import LuceneSearcher, get_topics, get_qrels\n",
    "import json\n",
    "\n",
    "def bm25_retrieve_beir(task, K):\n",
    "    topics = get_topics('beir-v1.0.0-{}-test'.format(task))\n",
    "    qrels = get_qrels('beir-v1.0.0-{}-test'.format(task))\n",
    "    searcher = LuceneSearcher.from_prebuilt_index('beir-v1.0.0-{}.flat'.format(task))\n",
    "\n",
    "    ICR_data = []\n",
    "    for topic_idx in list(topics.keys()):\n",
    "        topic = topics[topic_idx]\n",
    "        query = topic['title']\n",
    "        hits = searcher.search(query, k=K)\n",
    "        hit_items = 0\n",
    "        _sample = {\n",
    "            \"idx\": str(topic_idx),\n",
    "            \"question\": query,\n",
    "            \"paragraphs\":[],\n",
    "        }\n",
    "        for hit in hits:\n",
    "            doc_id = hit.docid\n",
    "            _doc_json = json.loads(searcher.doc(doc_id).raw())\n",
    "            _is_support = False\n",
    "            qrel_key_type = type(list(qrels[topic_idx].keys())[0])\n",
    "            if qrel_key_type == int:\n",
    "                _doc_id = int(doc_id)\n",
    "            else:\n",
    "                _doc_id = doc_id\n",
    "\n",
    "            if _doc_id in qrels[topic_idx].keys():\n",
    "                if int(qrels[topic_idx][_doc_id]) > 0:\n",
    "                    _is_support = True\n",
    "\n",
    "            if _is_support:\n",
    "                hit_items += 1\n",
    "            _sample['paragraphs'].append({\n",
    "            'idx': _doc_json['_id'],\n",
    "            'title': _doc_json['title'],\n",
    "            'paragraph_text': _doc_json['text'],\n",
    "            'is_supporting': _is_support,\n",
    "        })\n",
    "            \n",
    "        ICR_data.append(_sample)\n",
    "        _sample['num_gold_docs'] = hit_items\n",
    "    output_file_name = '../retriever_outpout/icr_beir_{}_bm25_top_{}.json'.format(task, K)\n",
    "    with open(output_file_name, 'w') as f:\n",
    "        json.dump(ICR_data, f, indent=2)\n",
    "    print('Saved retrieval results to ', output_file_name)\n"
   ]
  },
  {
   "cell_type": "code",
   "execution_count": null,
   "metadata": {},
   "outputs": [],
   "source": [
    "for task in ['trec-covid','nfcorpus','dbpedia-entity','scifact','scidocs','fiqa','fever','climate-fever', 'nq']:\n",
    "    bm25_retrieve_beir(task,100)"
   ]
  }
 ],
 "metadata": {
  "kernelspec": {
   "display_name": "torch_cu12",
   "language": "python",
   "name": "python3"
  },
  "language_info": {
   "codemirror_mode": {
    "name": "ipython",
    "version": 3
   },
   "file_extension": ".py",
   "mimetype": "text/x-python",
   "name": "python",
   "nbconvert_exporter": "python",
   "pygments_lexer": "ipython3",
   "version": "3.11.8"
  }
 },
 "nbformat": 4,
 "nbformat_minor": 2
}
